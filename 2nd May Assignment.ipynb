{
 "cells": [
  {
   "cell_type": "markdown",
   "id": "0ba7f69d",
   "metadata": {},
   "source": [
    "1. What is anomaly detection and what is its purpose?\n",
    "\n",
    "Ans: Anomaly detection is used to detect outliers in the clustering algorithm. Its main aim is to identify rare and unexpected events. Sometimes these unforeseen events can be helpful. "
   ]
  },
  {
   "cell_type": "markdown",
   "id": "e7fc92a7",
   "metadata": {},
   "source": [
    "2. What are the key challenges in anomaly detection?\n",
    "\n",
    "Ans: In the real world, data are more complex and contain noise and heterogeneity, which makes it very difficult to identify patterns and separate normal behaviour from anomalies. "
   ]
  },
  {
   "cell_type": "markdown",
   "id": "7bf05f12",
   "metadata": {},
   "source": [
    "3. How does unsupervised anomaly detection differ from supervised anomaly detection?\n",
    "\n",
    "Ans: In supervised learning, label data is available during the technique, which helps the algorithm to learn the anomaly's behaviour. Label data is available in supervised learning, so the algorithm learns the anomalies and flags rare and unknown data."
   ]
  },
  {
   "cell_type": "markdown",
   "id": "1cb01546",
   "metadata": {},
   "source": [
    "4. What are the main categories of anomaly detection algorithms?\n",
    "\n",
    "Ans: Machine Learning Methods: These methods use machine learning algorithms to learn the patterns in the data and identify anomalies based on deviations from the learned patterns.\n",
    "\n",
    "Clustering Methods: These methods group similar data points together and identify data points that do not belong to any cluster as anomalies.\n",
    "\n",
    "Rule-Based Methods: These methods use pre-defined rules or thresholds to identify anomalies based on deviations from the rules or thresholds.\n"
   ]
  },
  {
   "cell_type": "markdown",
   "id": "963c15ad",
   "metadata": {},
   "source": [
    "5. What are the main assumptions made by distance-based anomaly detection methods?\n",
    "\n",
    "Ans: Distance-based anomaly detection methods assume that a dataset's expected data points are tightly clustered in the feature space. In contrast, anomalies are located far away from the standard data points. These methods aim to identify anomalies by measuring the distances between data points and identifying those significantly different from the majority of the data points based on some distance metric."
   ]
  },
  {
   "cell_type": "markdown",
   "id": "a543f991",
   "metadata": {},
   "source": [
    "6. How does the LOF algorithm compute anomaly scores?\n",
    "\n",
    "Ans: The LOF (Local Outlier Factor) algorithm computes anomaly scores by measuring the local density of a data point compared to its k-nearest neighbours. It calculates the ratio between the average density of a point's k-nearest neighbours and its local density. The point is considered an outlier if this ratio is less than 1. The lower the ratio, the more anomalous the point."
   ]
  },
  {
   "cell_type": "markdown",
   "id": "3f6333c8",
   "metadata": {},
   "source": [
    "7. What are the key parameters of the Isolation Forest algorithm?\n",
    "\n",
    "Ans: The key parameters of the Isolation Forest algorithm are the number of trees to grow (n_estimators) and the maximum depth of the trees (max_depth). Other important parameters include the sub-sampling size (max_samples), the splitting strategy (splitter), and the random seed (random_state)."
   ]
  },
  {
   "cell_type": "markdown",
   "id": "45b3dc9d",
   "metadata": {},
   "source": [
    "8. If a data point has only 2 neighbours of the same class within a radius of 0.5, what is its anomaly score using KNN with K=10?\n",
    "\n",
    "Ans: The data point has only two neighbours of the same class within a radius of 0.5 using KNN with K=10; it means it has eight neighbours of a different class or no neighbours within that radius. Therefore, its anomaly score will be relatively high."
   ]
  },
  {
   "cell_type": "markdown",
   "id": "cd103b3d",
   "metadata": {},
   "source": [
    "9. Using the Isolation Forest algorithm with 100 trees and a dataset of 3000 data points, what is the anomaly score for a data point that has an average path length of 5.0 compared to the average path length of the trees?\n",
    "\n",
    "Ans: anomaly score = 2^(5.0/11.55) = 0.480"
   ]
  },
  {
   "cell_type": "code",
   "execution_count": null,
   "id": "1ea4942a",
   "metadata": {},
   "outputs": [],
   "source": []
  }
 ],
 "metadata": {
  "kernelspec": {
   "display_name": "Python 3 (ipykernel)",
   "language": "python",
   "name": "python3"
  },
  "language_info": {
   "codemirror_mode": {
    "name": "ipython",
    "version": 3
   },
   "file_extension": ".py",
   "mimetype": "text/x-python",
   "name": "python",
   "nbconvert_exporter": "python",
   "pygments_lexer": "ipython3",
   "version": "3.10.8"
  }
 },
 "nbformat": 4,
 "nbformat_minor": 5
}
